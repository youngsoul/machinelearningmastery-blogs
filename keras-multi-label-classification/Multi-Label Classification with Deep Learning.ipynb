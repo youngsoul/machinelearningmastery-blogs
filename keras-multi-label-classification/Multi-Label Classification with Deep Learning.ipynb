{
 "cells": [
  {
   "cell_type": "markdown",
   "metadata": {},
   "source": [
    "# Multi-Label Classification with Deep Learning\n",
    "\n",
    "https://machinelearningmastery.com/multi-label-classification-with-deep-learning/\n",
    "\n",
    "- Machine Learning Mastery\n",
    "\n",
    "- Jason Brownlee"
   ]
  },
  {
   "cell_type": "markdown",
   "metadata": {},
   "source": [
    "Multi-label classification involves predicting zero or more class labels.\n",
    "\n",
    "Unlike normal classification tasks where class labels are mutually exclusive, multi-label classification requires specialized machine learning algorithms that support predicting multiple mutually non-exclusive classes or “labels.”\n",
    "\n",
    "In multi-label classification, zero or more labels are required as output for each input sample, and the outputs are required simultaneously.\n",
    "\n",
    "In summary, to configure a neural network model for multi-label classification, the specifics are:\n",
    "\n",
    "* Number of nodes in the output layer matches the number of labels.\n",
    "\n",
    "* Sigmoid activation for each node in the output layer.\n",
    "\n",
    "* Binary cross-entropy loss function.\n",
    "\n"
   ]
  },
  {
   "cell_type": "code",
   "execution_count": 1,
   "metadata": {
    "ExecuteTime": {
     "end_time": "2020-09-06T15:57:32.955389Z",
     "start_time": "2020-09-06T15:57:28.823872Z"
    }
   },
   "outputs": [
    {
     "name": "stderr",
     "output_type": "stream",
     "text": [
      "Using TensorFlow backend.\n"
     ]
    }
   ],
   "source": [
    "from numpy import mean\n",
    "from numpy import std\n",
    "from sklearn.datasets import make_multilabel_classification\n",
    "from sklearn.model_selection import RepeatedKFold\n",
    "from keras.models import Sequential\n",
    "from keras.layers import Dense\n",
    "from sklearn.metrics import accuracy_score"
   ]
  },
  {
   "cell_type": "code",
   "execution_count": 16,
   "metadata": {
    "ExecuteTime": {
     "end_time": "2020-09-06T15:59:48.119305Z",
     "start_time": "2020-09-06T15:59:48.115755Z"
    }
   },
   "outputs": [],
   "source": [
    "# get the dataset\n",
    "# n_labels - average number of labels per instance\n",
    "def get_dataset():\n",
    "    X, y = make_multilabel_classification(n_samples=1000, n_features=10, n_classes=3, n_labels=2, random_state=1)\n",
    "    return X, y"
   ]
  },
  {
   "cell_type": "code",
   "execution_count": 17,
   "metadata": {
    "ExecuteTime": {
     "end_time": "2020-09-06T15:59:57.598240Z",
     "start_time": "2020-09-06T15:59:50.258509Z"
    }
   },
   "outputs": [],
   "source": [
    "X, y = get_dataset()"
   ]
  },
  {
   "cell_type": "code",
   "execution_count": null,
   "metadata": {},
   "outputs": [],
   "source": [
    "X.shape"
   ]
  },
  {
   "cell_type": "code",
   "execution_count": 18,
   "metadata": {
    "ExecuteTime": {
     "end_time": "2020-09-06T15:59:58.862934Z",
     "start_time": "2020-09-06T15:59:58.859039Z"
    }
   },
   "outputs": [
    {
     "data": {
      "text/plain": [
       "(1000, 3)"
      ]
     },
     "execution_count": 18,
     "metadata": {},
     "output_type": "execute_result"
    }
   ],
   "source": [
    "y.shape"
   ]
  },
  {
   "cell_type": "code",
   "execution_count": null,
   "metadata": {},
   "outputs": [],
   "source": [
    "X[:10]"
   ]
  },
  {
   "cell_type": "code",
   "execution_count": 19,
   "metadata": {
    "ExecuteTime": {
     "end_time": "2020-09-06T16:00:01.117132Z",
     "start_time": "2020-09-06T16:00:01.113182Z"
    }
   },
   "outputs": [
    {
     "data": {
      "text/plain": [
       "array([[1, 1, 0],\n",
       "       [0, 0, 0],\n",
       "       [1, 1, 0],\n",
       "       [1, 1, 1],\n",
       "       [0, 1, 0],\n",
       "       [0, 0, 0],\n",
       "       [0, 1, 0],\n",
       "       [1, 1, 1],\n",
       "       [1, 1, 1],\n",
       "       [1, 1, 1]])"
      ]
     },
     "execution_count": 19,
     "metadata": {},
     "output_type": "execute_result"
    }
   ],
   "source": [
    "y[:10]"
   ]
  },
  {
   "cell_type": "code",
   "execution_count": 24,
   "metadata": {
    "ExecuteTime": {
     "end_time": "2020-09-06T16:07:45.264437Z",
     "start_time": "2020-09-06T16:07:45.260572Z"
    }
   },
   "outputs": [],
   "source": [
    "def get_model(n_inputs, n_outputs):\n",
    "    model = Sequential()\n",
    "    model.add(Dense(20, input_dim=n_inputs, kernel_initializer='he_uniform', activation='relu'))\n",
    "    model.add(Dense(n_outputs, activation='sigmoid'))\n",
    "    model.compile(loss='binary_crossentropy', optimizer='adam')\n",
    "    return model\n"
   ]
  },
  {
   "cell_type": "markdown",
   "metadata": {},
   "source": [
    "Create a function to evaluate the model with a RepeatedKFold cross validation.\n",
    "\n",
    "RepeatedKFold:\n",
    "\n",
    "* n_splits - split the data into 10 'folds' and evaluate the model against each test fold\n",
    "\n",
    "* n_repeats - perform the 10 'folds' evaluation n_repeats times\n"
   ]
  },
  {
   "cell_type": "code",
   "execution_count": 28,
   "metadata": {
    "ExecuteTime": {
     "end_time": "2020-09-06T16:10:17.276875Z",
     "start_time": "2020-09-06T16:10:17.269843Z"
    }
   },
   "outputs": [],
   "source": [
    "# evaluate a model using repeated k-fold cross-validation\n",
    "def evaluate_model(X, y):\n",
    "    results = list()\n",
    "    n_inputs, n_outputs = X.shape[1], y.shape[1]\n",
    "    # define evaluation procedure\n",
    "    # n_splits\n",
    "    cv = RepeatedKFold(n_splits=10, n_repeats=3, random_state=1)\n",
    "    # enumerate folds\n",
    "    split_count = 0\n",
    "    for train_ix, test_ix in cv.split(X):\n",
    "        split_count += 1\n",
    "        # prepare data\n",
    "        X_train, X_test = X[train_ix], X[test_ix]\n",
    "        y_train, y_test = y[train_ix], y[test_ix]\n",
    "        # define model\n",
    "        model = get_model(n_inputs, n_outputs)\n",
    "        # fit model\n",
    "        model.fit(X_train, y_train, verbose=0, epochs=100)\n",
    "        # make a prediction on the test set\n",
    "        yhat = model.predict(X_test)\n",
    "        # round probabilities to class labels\n",
    "        yhat = yhat.round()\n",
    "        # calculate accuracy\n",
    "        acc = accuracy_score(y_test, yhat)\n",
    "        # store result\n",
    "        print(f'Split[{split_count}] >{acc:.3f}')\n",
    "        results.append(acc)\n",
    "    return results"
   ]
  },
  {
   "cell_type": "code",
   "execution_count": 22,
   "metadata": {
    "ExecuteTime": {
     "end_time": "2020-09-06T16:07:14.149599Z",
     "start_time": "2020-09-06T16:07:06.546382Z"
    }
   },
   "outputs": [],
   "source": [
    "X,y = get_dataset()"
   ]
  },
  {
   "cell_type": "code",
   "execution_count": 29,
   "metadata": {
    "ExecuteTime": {
     "end_time": "2020-09-06T16:11:24.179738Z",
     "start_time": "2020-09-06T16:10:22.717035Z"
    }
   },
   "outputs": [
    {
     "name": "stdout",
     "output_type": "stream",
     "text": [
      "Split[1] >0.830\n",
      "Split[2] >0.810\n",
      "Split[3] >0.870\n",
      "Split[4] >0.880\n",
      "Split[5] >0.840\n",
      "Split[6] >0.840\n",
      "Split[7] >0.810\n",
      "Split[8] >0.810\n",
      "Split[9] >0.790\n",
      "Split[10] >0.800\n",
      "Split[11] >0.830\n",
      "Split[12] >0.830\n",
      "Split[13] >0.770\n",
      "Split[14] >0.820\n",
      "Split[15] >0.810\n",
      "Split[16] >0.830\n",
      "Split[17] >0.800\n",
      "Split[18] >0.880\n",
      "Split[19] >0.820\n",
      "Split[20] >0.840\n",
      "Split[21] >0.780\n",
      "Split[22] >0.830\n",
      "Split[23] >0.800\n",
      "Split[24] >0.850\n",
      "Split[25] >0.850\n",
      "Split[26] >0.810\n",
      "Split[27] >0.800\n",
      "Split[28] >0.800\n",
      "Split[29] >0.770\n",
      "Split[30] >0.860\n"
     ]
    }
   ],
   "source": [
    "model_eval = evaluate_model(X, y)"
   ]
  },
  {
   "cell_type": "markdown",
   "metadata": {},
   "source": [
    "## Model predictions on unseen data"
   ]
  },
  {
   "cell_type": "code",
   "execution_count": 43,
   "metadata": {
    "ExecuteTime": {
     "end_time": "2020-09-06T16:19:19.574709Z",
     "start_time": "2020-09-06T16:19:19.571882Z"
    }
   },
   "outputs": [],
   "source": [
    "import numpy as np\n",
    "# print numpy array values without scientific notation\n",
    "np. set_printoptions(suppress=True)\n"
   ]
  },
  {
   "cell_type": "code",
   "execution_count": 30,
   "metadata": {
    "ExecuteTime": {
     "end_time": "2020-09-06T16:14:00.918614Z",
     "start_time": "2020-09-06T16:13:53.251610Z"
    }
   },
   "outputs": [],
   "source": [
    "X, y = get_dataset()"
   ]
  },
  {
   "cell_type": "code",
   "execution_count": 31,
   "metadata": {
    "ExecuteTime": {
     "end_time": "2020-09-06T16:14:38.262564Z",
     "start_time": "2020-09-06T16:14:38.235848Z"
    }
   },
   "outputs": [],
   "source": [
    "n_inputs = X.shape[1]\n",
    "n_outputs = y.shape[1]\n",
    "model = get_model(n_inputs, n_outputs)"
   ]
  },
  {
   "cell_type": "code",
   "execution_count": 32,
   "metadata": {
    "ExecuteTime": {
     "end_time": "2020-09-06T16:15:09.252925Z",
     "start_time": "2020-09-06T16:15:07.187826Z"
    }
   },
   "outputs": [
    {
     "data": {
      "text/plain": [
       "<keras.callbacks.callbacks.History at 0x15726b4d0>"
      ]
     },
     "execution_count": 32,
     "metadata": {},
     "output_type": "execute_result"
    }
   ],
   "source": [
    "model.fit(X, y, verbose=0, epochs=100)"
   ]
  },
  {
   "cell_type": "code",
   "execution_count": 44,
   "metadata": {
    "ExecuteTime": {
     "end_time": "2020-09-06T16:19:52.689533Z",
     "start_time": "2020-09-06T16:19:52.686310Z"
    }
   },
   "outputs": [],
   "source": [
    "new_data = [3, 3, 6, 7, 8, 2, 11, 11, 1, 3]\n",
    "new_data = np.asarray([new_data])"
   ]
  },
  {
   "cell_type": "code",
   "execution_count": 41,
   "metadata": {
    "ExecuteTime": {
     "end_time": "2020-09-06T16:18:24.185023Z",
     "start_time": "2020-09-06T16:18:24.182019Z"
    }
   },
   "outputs": [],
   "source": []
  },
  {
   "cell_type": "code",
   "execution_count": 37,
   "metadata": {
    "ExecuteTime": {
     "end_time": "2020-09-06T16:16:19.125623Z",
     "start_time": "2020-09-06T16:16:19.103294Z"
    }
   },
   "outputs": [],
   "source": [
    "y_pred = model.predict(new_data)"
   ]
  },
  {
   "cell_type": "code",
   "execution_count": 42,
   "metadata": {
    "ExecuteTime": {
     "end_time": "2020-09-06T16:18:26.965205Z",
     "start_time": "2020-09-06T16:18:26.961198Z"
    }
   },
   "outputs": [
    {
     "data": {
      "text/plain": [
       "array([0.99989164, 0.9879595 , 0.00072322], dtype=float32)"
      ]
     },
     "execution_count": 42,
     "metadata": {},
     "output_type": "execute_result"
    }
   ],
   "source": [
    "y_pred[0]"
   ]
  },
  {
   "cell_type": "code",
   "execution_count": null,
   "metadata": {},
   "outputs": [],
   "source": []
  },
  {
   "cell_type": "code",
   "execution_count": 46,
   "metadata": {
    "ExecuteTime": {
     "end_time": "2020-09-06T16:20:26.990335Z",
     "start_time": "2020-09-06T16:20:26.984353Z"
    }
   },
   "outputs": [
    {
     "data": {
      "text/plain": [
       "array([0.99590033, 0.9776813 , 0.9917393 ], dtype=float32)"
      ]
     },
     "execution_count": 46,
     "metadata": {},
     "output_type": "execute_result"
    }
   ],
   "source": [
    "new_data = [1, 1, 2, 4, 8, 10, 8, 8, 5, 6]\n",
    "new_data = np.asarray([new_data])\n",
    "y_pred = model.predict(new_data)\n",
    "y_pred[0]"
   ]
  },
  {
   "cell_type": "code",
   "execution_count": null,
   "metadata": {},
   "outputs": [],
   "source": []
  },
  {
   "cell_type": "code",
   "execution_count": null,
   "metadata": {},
   "outputs": [],
   "source": []
  }
 ],
 "metadata": {
  "kernelspec": {
   "display_name": "Python 3",
   "language": "python",
   "name": "python3"
  },
  "language_info": {
   "codemirror_mode": {
    "name": "ipython",
    "version": 3
   },
   "file_extension": ".py",
   "mimetype": "text/x-python",
   "name": "python",
   "nbconvert_exporter": "python",
   "pygments_lexer": "ipython3",
   "version": "3.7.7"
  },
  "toc": {
   "base_numbering": 1,
   "nav_menu": {},
   "number_sections": true,
   "sideBar": true,
   "skip_h1_title": false,
   "title_cell": "Table of Contents",
   "title_sidebar": "Contents",
   "toc_cell": false,
   "toc_position": {},
   "toc_section_display": true,
   "toc_window_display": false
  }
 },
 "nbformat": 4,
 "nbformat_minor": 2
}
